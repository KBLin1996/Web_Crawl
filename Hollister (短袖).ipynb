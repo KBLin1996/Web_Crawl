{
 "cells": [
  {
   "cell_type": "code",
   "execution_count": null,
   "metadata": {},
   "outputs": [],
   "source": [
    "# http://www.hollisterco.com.tw/zh_TW/%E7%94%B7%E8%A3%9D-%E6%96%B0%E5%93%81%E4%B8%8A%E5%B8%82-%E4%B8%8A%E8%A1%A3?source=dropdown#prefn1=sleeve&prefv1=%E7%9F%AD%E8%A2%96&source=dropdown"
   ]
  },
  {
   "cell_type": "code",
   "execution_count": 5,
   "metadata": {},
   "outputs": [],
   "source": [
    "import os\n",
    "\n",
    "os.makedirs('./Hollister Short-Sleeve/', exist_ok=True)"
   ]
  },
  {
   "cell_type": "code",
   "execution_count": 3,
   "metadata": {},
   "outputs": [],
   "source": [
    "from bs4 import BeautifulSoup\n",
    "from urllib.request import urlopen\n",
    "import shutil\n",
    "import time\n",
    "import requests\n",
    "\n",
    "URL = requests.get(\"http://www.hollisterco.com.tw/zh_TW/%E7%94%B7%E8%A3%9D-%E6%96%B0%E5%93%81%E4%B8%8A%E5%B8%82-%E4%B8%8A%E8%A1%A3?source=dropdown#prefn1=sleeve&prefv1=%E7%9F%AD%E8%A2%96&source=dropdown\")\n",
    "soup = BeautifulSoup(URL.text, \"lxml\")\n",
    "\n",
    "for img in soup.select('.prod-img'):\n",
    "    image_name = img[\"src\"].split('/')[-1]\n",
    "    r = requests.get(img[\"src\"], stream=True)\n",
    "    with open('./Hollister Short-Sleeve/%s' % image_name, 'wb') as f:\n",
    "        shutil.copyfileobj(r.raw, f)\n",
    "    f.close()\n",
    "    del r"
   ]
  },
  {
   "cell_type": "code",
   "execution_count": null,
   "metadata": {},
   "outputs": [],
   "source": []
  }
 ],
 "metadata": {
  "kernelspec": {
   "display_name": "Python 3",
   "language": "python",
   "name": "python3"
  },
  "language_info": {
   "codemirror_mode": {
    "name": "ipython",
    "version": 3
   },
   "file_extension": ".py",
   "mimetype": "text/x-python",
   "name": "python",
   "nbconvert_exporter": "python",
   "pygments_lexer": "ipython3",
   "version": "3.6.4"
  }
 },
 "nbformat": 4,
 "nbformat_minor": 2
}
