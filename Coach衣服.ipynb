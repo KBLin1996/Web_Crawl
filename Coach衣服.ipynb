{
 "cells": [
  {
   "cell_type": "code",
   "execution_count": null,
   "metadata": {},
   "outputs": [],
   "source": [
    "# 創資料夾存照片資料"
   ]
  },
  {
   "cell_type": "code",
   "execution_count": null,
   "metadata": {},
   "outputs": [],
   "source": [
    "import os\n",
    "\n",
    "os.makedirs('./Coach Clothes/', exist_ok=True)"
   ]
  },
  {
   "cell_type": "code",
   "execution_count": null,
   "metadata": {},
   "outputs": [],
   "source": [
    "# 開始爬Coach Clothes的網站照片"
   ]
  },
  {
   "cell_type": "code",
   "execution_count": 1,
   "metadata": {},
   "outputs": [
    {
     "name": "stdout",
     "output_type": "stream",
     "text": [
      "http://s7d2.scene7.com/is/image/Coach/30393_nav_a0?fmt=jpeg&wid=400&hei=400&qlt=75,1&op_sharpen=0&resMode=bicub&op_usm=5,0.2,0,0&iccEmbed=0\n",
      "Saved 30393_nav_a0?fmt=jpeg&wid=400&hei=400&qlt=75,1&op_sharpen=0&resMode=bicub&op_usm=5,0.2,0,0&iccEmbed=0\n",
      "http://s7d2.scene7.com/is/image/Coach/30394_eme_a0?fmt=jpeg&wid=400&hei=400&qlt=75,1&op_sharpen=0&resMode=bicub&op_usm=5,0.2,0,0&iccEmbed=0\n",
      "Saved 30394_eme_a0?fmt=jpeg&wid=400&hei=400&qlt=75,1&op_sharpen=0&resMode=bicub&op_usm=5,0.2,0,0&iccEmbed=0\n",
      "http://s7d2.scene7.com/is/image/Coach/25759_bur_a0?fmt=jpeg&wid=400&hei=400&qlt=75,1&op_sharpen=0&resMode=bicub&op_usm=5,0.2,0,0&iccEmbed=0\n",
      "Saved 25759_bur_a0?fmt=jpeg&wid=400&hei=400&qlt=75,1&op_sharpen=0&resMode=bicub&op_usm=5,0.2,0,0&iccEmbed=0\n",
      "http://s7d2.scene7.com/is/image/Coach/29628_eme_a0?fmt=jpeg&wid=400&hei=400&qlt=75,1&op_sharpen=0&resMode=bicub&op_usm=5,0.2,0,0&iccEmbed=0\n",
      "Saved 29628_eme_a0?fmt=jpeg&wid=400&hei=400&qlt=75,1&op_sharpen=0&resMode=bicub&op_usm=5,0.2,0,0&iccEmbed=0\n",
      "http://s7d2.scene7.com/is/image/Coach/29629_bur_a0?fmt=jpeg&wid=400&hei=400&qlt=75,1&op_sharpen=0&resMode=bicub&op_usm=5,0.2,0,0&iccEmbed=0\n",
      "Saved 29629_bur_a0?fmt=jpeg&wid=400&hei=400&qlt=75,1&op_sharpen=0&resMode=bicub&op_usm=5,0.2,0,0&iccEmbed=0\n",
      "http://s7d2.scene7.com/is/image/Coach/29999_blk_a0?fmt=jpeg&wid=400&hei=400&qlt=75,1&op_sharpen=0&resMode=bicub&op_usm=5,0.2,0,0&iccEmbed=0\n",
      "Saved 29999_blk_a0?fmt=jpeg&wid=400&hei=400&qlt=75,1&op_sharpen=0&resMode=bicub&op_usm=5,0.2,0,0&iccEmbed=0\n",
      "http://s7d2.scene7.com/is/image/Coach/28918_nav_a0?fmt=jpeg&wid=400&hei=400&qlt=75,1&op_sharpen=0&resMode=bicub&op_usm=5,0.2,0,0&iccEmbed=0\n",
      "Saved 28918_nav_a0?fmt=jpeg&wid=400&hei=400&qlt=75,1&op_sharpen=0&resMode=bicub&op_usm=5,0.2,0,0&iccEmbed=0\n",
      "http://s7d2.scene7.com/is/image/Coach/27552_nim_a0?fmt=jpeg&wid=400&hei=400&qlt=75,1&op_sharpen=0&resMode=bicub&op_usm=5,0.2,0,0&iccEmbed=0\n",
      "Saved 27552_nim_a0?fmt=jpeg&wid=400&hei=400&qlt=75,1&op_sharpen=0&resMode=bicub&op_usm=5,0.2,0,0&iccEmbed=0\n",
      "http://s7d2.scene7.com/is/image/Coach/29606_blk_a0?fmt=jpeg&wid=400&hei=400&qlt=75,1&op_sharpen=0&resMode=bicub&op_usm=5,0.2,0,0&iccEmbed=0\n",
      "Saved 29606_blk_a0?fmt=jpeg&wid=400&hei=400&qlt=75,1&op_sharpen=0&resMode=bicub&op_usm=5,0.2,0,0&iccEmbed=0\n",
      "http://s7d2.scene7.com/is/image/Coach/22009_n16_a0?fmt=jpeg&wid=400&hei=400&qlt=75,1&op_sharpen=0&resMode=bicub&op_usm=5,0.2,0,0&iccEmbed=0\n",
      "Saved 22009_n16_a0?fmt=jpeg&wid=400&hei=400&qlt=75,1&op_sharpen=0&resMode=bicub&op_usm=5,0.2,0,0&iccEmbed=0\n",
      "http://s7d2.scene7.com/is/image/Coach/22009_n17_a0?fmt=jpeg&wid=400&hei=400&qlt=75,1&op_sharpen=0&resMode=bicub&op_usm=5,0.2,0,0&iccEmbed=0\n",
      "Saved 22009_n17_a0?fmt=jpeg&wid=400&hei=400&qlt=75,1&op_sharpen=0&resMode=bicub&op_usm=5,0.2,0,0&iccEmbed=0\n",
      "http://s7d2.scene7.com/is/image/Coach/22012_ryl_a0?fmt=jpeg&wid=400&hei=400&qlt=75,1&op_sharpen=0&resMode=bicub&op_usm=5,0.2,0,0&iccEmbed=0\n",
      "Saved 22012_ryl_a0?fmt=jpeg&wid=400&hei=400&qlt=75,1&op_sharpen=0&resMode=bicub&op_usm=5,0.2,0,0&iccEmbed=0\n",
      "http://s7d2.scene7.com/is/image/Coach/29623_hgr_a0?fmt=jpeg&wid=400&hei=400&qlt=75,1&op_sharpen=0&resMode=bicub&op_usm=5,0.2,0,0&iccEmbed=0\n",
      "Saved 29623_hgr_a0?fmt=jpeg&wid=400&hei=400&qlt=75,1&op_sharpen=0&resMode=bicub&op_usm=5,0.2,0,0&iccEmbed=0\n",
      "http://s7d2.scene7.com/is/image/Coach/29624_opi_a0?fmt=jpeg&wid=400&hei=400&qlt=75,1&op_sharpen=0&resMode=bicub&op_usm=5,0.2,0,0&iccEmbed=0\n",
      "Saved 29624_opi_a0?fmt=jpeg&wid=400&hei=400&qlt=75,1&op_sharpen=0&resMode=bicub&op_usm=5,0.2,0,0&iccEmbed=0\n",
      "http://s7d2.scene7.com/is/image/Coach/29625_rby_a0?fmt=jpeg&wid=400&hei=400&qlt=75,1&op_sharpen=0&resMode=bicub&op_usm=5,0.2,0,0&iccEmbed=0\n",
      "Saved 29625_rby_a0?fmt=jpeg&wid=400&hei=400&qlt=75,1&op_sharpen=0&resMode=bicub&op_usm=5,0.2,0,0&iccEmbed=0\n",
      "http://s7d2.scene7.com/is/image/Coach/29947_opi_a0?fmt=jpeg&wid=400&hei=400&qlt=75,1&op_sharpen=0&resMode=bicub&op_usm=5,0.2,0,0&iccEmbed=0\n",
      "Saved 29947_opi_a0?fmt=jpeg&wid=400&hei=400&qlt=75,1&op_sharpen=0&resMode=bicub&op_usm=5,0.2,0,0&iccEmbed=0\n",
      "http://s7d2.scene7.com/is/image/Coach/29997_blk_a0?fmt=jpeg&wid=400&hei=400&qlt=75,1&op_sharpen=0&resMode=bicub&op_usm=5,0.2,0,0&iccEmbed=0\n",
      "Saved 29997_blk_a0?fmt=jpeg&wid=400&hei=400&qlt=75,1&op_sharpen=0&resMode=bicub&op_usm=5,0.2,0,0&iccEmbed=0\n",
      "http://s7d2.scene7.com/is/image/Coach/29620_ctb_a0?fmt=jpeg&wid=400&hei=400&qlt=75,1&op_sharpen=0&resMode=bicub&op_usm=5,0.2,0,0&iccEmbed=0\n",
      "Saved 29620_ctb_a0?fmt=jpeg&wid=400&hei=400&qlt=75,1&op_sharpen=0&resMode=bicub&op_usm=5,0.2,0,0&iccEmbed=0\n",
      "http://s7d2.scene7.com/is/image/Coach/22067_wht_a0?fmt=jpeg&wid=400&hei=400&qlt=75,1&op_sharpen=0&resMode=bicub&op_usm=5,0.2,0,0&iccEmbed=0\n",
      "Saved 22067_wht_a0?fmt=jpeg&wid=400&hei=400&qlt=75,1&op_sharpen=0&resMode=bicub&op_usm=5,0.2,0,0&iccEmbed=0\n",
      "http://s7d2.scene7.com/is/image/Coach/22058_blk_a0?fmt=jpeg&wid=400&hei=400&qlt=75,1&op_sharpen=0&resMode=bicub&op_usm=5,0.2,0,0&iccEmbed=0\n",
      "Saved 22058_blk_a0?fmt=jpeg&wid=400&hei=400&qlt=75,1&op_sharpen=0&resMode=bicub&op_usm=5,0.2,0,0&iccEmbed=0\n",
      "http://s7d2.scene7.com/is/image/Coach/22060_bur_a0?fmt=jpeg&wid=400&hei=400&qlt=75,1&op_sharpen=0&resMode=bicub&op_usm=5,0.2,0,0&iccEmbed=0\n",
      "Saved 22060_bur_a0?fmt=jpeg&wid=400&hei=400&qlt=75,1&op_sharpen=0&resMode=bicub&op_usm=5,0.2,0,0&iccEmbed=0\n",
      "http://s7d2.scene7.com/is/image/Coach/22060_hgr_a0?fmt=jpeg&wid=400&hei=400&qlt=75,1&op_sharpen=0&resMode=bicub&op_usm=5,0.2,0,0&iccEmbed=0\n",
      "Saved 22060_hgr_a0?fmt=jpeg&wid=400&hei=400&qlt=75,1&op_sharpen=0&resMode=bicub&op_usm=5,0.2,0,0&iccEmbed=0\n",
      "http://s7d2.scene7.com/is/image/Coach/22060_n1a_a0?fmt=jpeg&wid=400&hei=400&qlt=75,1&op_sharpen=0&resMode=bicub&op_usm=5,0.2,0,0&iccEmbed=0\n",
      "Saved 22060_n1a_a0?fmt=jpeg&wid=400&hei=400&qlt=75,1&op_sharpen=0&resMode=bicub&op_usm=5,0.2,0,0&iccEmbed=0\n",
      "http://s7d2.scene7.com/is/image/Coach/22060_opi_a0?fmt=jpeg&wid=400&hei=400&qlt=75,1&op_sharpen=0&resMode=bicub&op_usm=5,0.2,0,0&iccEmbed=0\n",
      "Saved 22060_opi_a0?fmt=jpeg&wid=400&hei=400&qlt=75,1&op_sharpen=0&resMode=bicub&op_usm=5,0.2,0,0&iccEmbed=0\n",
      "http://s7d2.scene7.com/is/image/Coach/22060_pin_a0?fmt=jpeg&wid=400&hei=400&qlt=75,1&op_sharpen=0&resMode=bicub&op_usm=5,0.2,0,0&iccEmbed=0\n",
      "Saved 22060_pin_a0?fmt=jpeg&wid=400&hei=400&qlt=75,1&op_sharpen=0&resMode=bicub&op_usm=5,0.2,0,0&iccEmbed=0\n",
      "http://s7d2.scene7.com/is/image/Coach/22060_ryl_a0?fmt=jpeg&wid=400&hei=400&qlt=75,1&op_sharpen=0&resMode=bicub&op_usm=5,0.2,0,0&iccEmbed=0\n",
      "Saved 22060_ryl_a0?fmt=jpeg&wid=400&hei=400&qlt=75,1&op_sharpen=0&resMode=bicub&op_usm=5,0.2,0,0&iccEmbed=0\n",
      "http://s7d2.scene7.com/is/image/Coach/30753_ind_a0?fmt=jpeg&wid=400&hei=400&qlt=75,1&op_sharpen=0&resMode=bicub&op_usm=5,0.2,0,0&iccEmbed=0\n",
      "Saved 30753_ind_a0?fmt=jpeg&wid=400&hei=400&qlt=75,1&op_sharpen=0&resMode=bicub&op_usm=5,0.2,0,0&iccEmbed=0\n",
      "http://s7d2.scene7.com/is/image/Coach/27554_ind_a0?fmt=jpeg&wid=400&hei=400&qlt=75,1&op_sharpen=0&resMode=bicub&op_usm=5,0.2,0,0&iccEmbed=0\n",
      "Saved 27554_ind_a0?fmt=jpeg&wid=400&hei=400&qlt=75,1&op_sharpen=0&resMode=bicub&op_usm=5,0.2,0,0&iccEmbed=0\n",
      "http://s7d2.scene7.com/is/image/Coach/29632_kha_a0?fmt=jpeg&wid=400&hei=400&qlt=75,1&op_sharpen=0&resMode=bicub&op_usm=5,0.2,0,0&iccEmbed=0\n",
      "Saved 29632_kha_a0?fmt=jpeg&wid=400&hei=400&qlt=75,1&op_sharpen=0&resMode=bicub&op_usm=5,0.2,0,0&iccEmbed=0\n",
      "http://s7d2.scene7.com/is/image/Coach/23757_blk_a0?fmt=jpeg&wid=400&hei=400&qlt=75,1&op_sharpen=0&resMode=bicub&op_usm=5,0.2,0,0&iccEmbed=0\n",
      "Saved 23757_blk_a0?fmt=jpeg&wid=400&hei=400&qlt=75,1&op_sharpen=0&resMode=bicub&op_usm=5,0.2,0,0&iccEmbed=0\n",
      "http://s7d2.scene7.com/is/image/Coach/23757_chr_a0?fmt=jpeg&wid=400&hei=400&qlt=75,1&op_sharpen=0&resMode=bicub&op_usm=5,0.2,0,0&iccEmbed=0\n",
      "Saved 23757_chr_a0?fmt=jpeg&wid=400&hei=400&qlt=75,1&op_sharpen=0&resMode=bicub&op_usm=5,0.2,0,0&iccEmbed=0\n",
      "http://s7d2.scene7.com/is/image/Coach/25511_eax_a0?fmt=jpeg&wid=400&hei=400&qlt=75,1&op_sharpen=0&resMode=bicub&op_usm=5,0.2,0,0&iccEmbed=0\n",
      "Saved 25511_eax_a0?fmt=jpeg&wid=400&hei=400&qlt=75,1&op_sharpen=0&resMode=bicub&op_usm=5,0.2,0,0&iccEmbed=0\n",
      "http://s7d2.scene7.com/is/image/Coach/59594_nav_a0?fmt=jpeg&wid=400&hei=400&qlt=75,1&op_sharpen=0&resMode=bicub&op_usm=5,0.2,0,0&iccEmbed=0\n",
      "Saved 59594_nav_a0?fmt=jpeg&wid=400&hei=400&qlt=75,1&op_sharpen=0&resMode=bicub&op_usm=5,0.2,0,0&iccEmbed=0\n",
      "http://s7d2.scene7.com/is/image/Coach/59594_win_a0?fmt=jpeg&wid=400&hei=400&qlt=75,1&op_sharpen=0&resMode=bicub&op_usm=5,0.2,0,0&iccEmbed=0\n",
      "Saved 59594_win_a0?fmt=jpeg&wid=400&hei=400&qlt=75,1&op_sharpen=0&resMode=bicub&op_usm=5,0.2,0,0&iccEmbed=0\n"
     ]
    }
   ],
   "source": [
    "from bs4 import BeautifulSoup\n",
    "from urllib.request import urlopen\n",
    "import requests\n",
    "import re\n",
    "\n",
    "URL = \"http://taiwan.coach.com/shop/men-clothing-apparel\"\n",
    "html = requests.get(URL).text\n",
    "soup = BeautifulSoup(html, 'lxml')\n",
    "img_ul = soup.find_all('div', class_='grid-content')\n",
    "\n",
    "for ul in img_ul:\n",
    "    imgs = ul.find_all('img')\n",
    "    \n",
    "for img in imgs:\n",
    "    url = img[\"src\"]\n",
    "    print(url)\n",
    "        \n",
    "    r = requests.get(url, stream=True)\n",
    "    image_name = url.split('/')[-1]\n",
    "    with open('./Coach Clothes/%s' % image_name, 'wb') as f:\n",
    "        for chunk in r.iter_content(chunk_size=128):\n",
    "            f.write(chunk)\n",
    "    print('Saved %s' % image_name)"
   ]
  },
  {
   "cell_type": "code",
   "execution_count": null,
   "metadata": {},
   "outputs": [],
   "source": []
  }
 ],
 "metadata": {
  "kernelspec": {
   "display_name": "Python 3",
   "language": "python",
   "name": "python3"
  },
  "language_info": {
   "codemirror_mode": {
    "name": "ipython",
    "version": 3
   },
   "file_extension": ".py",
   "mimetype": "text/x-python",
   "name": "python",
   "nbconvert_exporter": "python",
   "pygments_lexer": "ipython3",
   "version": "3.6.4"
  }
 },
 "nbformat": 4,
 "nbformat_minor": 2
}
