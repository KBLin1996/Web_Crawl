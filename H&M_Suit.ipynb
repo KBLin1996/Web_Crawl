{
 "cells": [
  {
   "cell_type": "code",
   "execution_count": 23,
   "metadata": {},
   "outputs": [
    {
     "name": "stdout",
     "output_type": "stream",
     "text": [
      "https://lp2.hm.com/hmgoepprod?set=source[/cd/12/cd12c9027f8f7c6619be9b7408344c93cabc039a.jpg],origin[dam],category[men_blazerssuits],type[DESCRIPTIVESTILLLIFE],res[z],hmver[1]&call=url[file:/product/main]\n",
      "https://lp2.hm.com/hmgoepprod?set=source[/40/b6/40b6a08a3984e46073c31b87331cf7904e45e99a.jpg],origin[dam],category[men_blazerssuits_blazers],type[DESCRIPTIVESTILLLIFE],res[z],hmver[1]&call=url[file:/product/main]\n",
      "https://lp2.hm.com/hmgoepprod?set=source[/6d/d6/6dd62108d34bb4ea376b8c93503df4cf8ac49e31.jpg],origin[dam],category[men_blazerssuits],type[DESCRIPTIVESTILLLIFE],res[z],hmver[2]&call=url[file:/product/main]\n",
      "https://lp2.hm.com/hmgoepprod?set=source[/73/1c/731ce872641b320b73ce8f3145a39d1ba75b6a23.jpg],origin[dam],category[men_blazerssuits],type[DESCRIPTIVESTILLLIFE],res[z],hmver[2]&call=url[file:/product/main]\n",
      "https://lp2.hm.com/hmgoepprod?set=source[/f1/34/f134e8986507716dd58b509da5cb8036cdd51308.jpg],origin[dam],category[men_blazerssuits_blazers],type[DESCRIPTIVESTILLLIFE],res[z],hmver[1]&call=url[file:/product/main]\n",
      "https://lp2.hm.com/hmgoepprod?set=source[/32/28/322896362e3334195ad79c792098fcc2fc279b9d.jpg],origin[dam],category[men_blazerssuits_blazers],type[DESCRIPTIVESTILLLIFE],res[z],hmver[1]&call=url[file:/product/main]\n",
      "https://lp2.hm.com/hmgoepprod?set=source[/3f/3b/3f3bee8b6b3681d34d67ad47b00c945fd5294eb7.jpg],origin[dam],category[men_blazerssuits_blazers],type[DESCRIPTIVESTILLLIFE],res[z],hmver[1]&call=url[file:/product/main]\n",
      "https://lp2.hm.com/hmgoepprod?set=source[/71/ce/71ce00d3423621ff6ea113154af40792f628bfa7.jpg],origin[dam],category[men_blazerssuits_blazers],type[DESCRIPTIVESTILLLIFE],res[z],hmver[2]&call=url[file:/product/main]\n",
      "https://lp2.hm.com/hmgoepprod?set=source[/72/f6/72f67e585006c17c4ff6b7689ab970c0d146bf47.jpg],origin[dam],category[men_blazerssuits],type[DESCRIPTIVESTILLLIFE],res[z],hmver[1]&call=url[file:/product/main]\n",
      "https://lp2.hm.com/hmgoepprod?set=source[/d0/2b/d02b8653f0c667c975d0ff7c588809187e2cb26a.jpg],origin[dam],category[men_blazerssuits_blazers],type[DESCRIPTIVESTILLLIFE],res[z],hmver[1]&call=url[file:/product/main]\n",
      "https://lp2.hm.com/hmgoepprod?set=source[/40/69/40695cb94f80512b1bdaf1d09eb001f1454bc326.jpg],origin[dam],category[men_blazerssuits_blazers],type[DESCRIPTIVESTILLLIFE],res[z],hmver[1]&call=url[file:/product/main]\n",
      "https://lp2.hm.com/hmgoepprod?set=source[/79/bf/79bfc5ab335d5f2229296ed251f2b64a5870bbf5.jpg],origin[dam],category[men_blazerssuits_blazers],type[DESCRIPTIVESTILLLIFE],res[z],hmver[2]&call=url[file:/product/main]\n"
     ]
    },
    {
     "ename": "KeyError",
     "evalue": "'src'",
     "output_type": "error",
     "traceback": [
      "\u001b[0;31m---------------------------------------------------------------------------\u001b[0m",
      "\u001b[0;31mKeyError\u001b[0m                                  Traceback (most recent call last)",
      "\u001b[0;32m<ipython-input-23-91bf939833e9>\u001b[0m in \u001b[0;36m<module>\u001b[0;34m()\u001b[0m\n\u001b[1;32m     29\u001b[0m \u001b[0;34m\u001b[0m\u001b[0m\n\u001b[1;32m     30\u001b[0m     \u001b[0;32mfor\u001b[0m \u001b[0mimg\u001b[0m \u001b[0;32min\u001b[0m \u001b[0mimgs\u001b[0m\u001b[0;34m:\u001b[0m\u001b[0;34m\u001b[0m\u001b[0m\n\u001b[0;32m---> 31\u001b[0;31m         \u001b[0murl\u001b[0m \u001b[0;34m=\u001b[0m \u001b[0mimg\u001b[0m\u001b[0;34m[\u001b[0m\u001b[0;34m\"src\"\u001b[0m\u001b[0;34m]\u001b[0m\u001b[0;34m\u001b[0m\u001b[0m\n\u001b[0m\u001b[1;32m     32\u001b[0m         \u001b[0murl\u001b[0m \u001b[0;34m=\u001b[0m \u001b[0;34m\"https:\"\u001b[0m \u001b[0;34m+\u001b[0m \u001b[0murl\u001b[0m\u001b[0;34m\u001b[0m\u001b[0m\n\u001b[1;32m     33\u001b[0m         \u001b[0mprint\u001b[0m\u001b[0;34m(\u001b[0m\u001b[0murl\u001b[0m\u001b[0;34m)\u001b[0m\u001b[0;34m\u001b[0m\u001b[0m\n",
      "\u001b[0;32m~/anaconda3/envs/tensorflow-gpu/lib/python3.6/site-packages/bs4/element.py\u001b[0m in \u001b[0;36m__getitem__\u001b[0;34m(self, key)\u001b[0m\n\u001b[1;32m   1009\u001b[0m         \"\"\"tag[key] returns the value of the 'key' attribute for the tag,\n\u001b[1;32m   1010\u001b[0m         and throws an exception if it's not there.\"\"\"\n\u001b[0;32m-> 1011\u001b[0;31m         \u001b[0;32mreturn\u001b[0m \u001b[0mself\u001b[0m\u001b[0;34m.\u001b[0m\u001b[0mattrs\u001b[0m\u001b[0;34m[\u001b[0m\u001b[0mkey\u001b[0m\u001b[0;34m]\u001b[0m\u001b[0;34m\u001b[0m\u001b[0m\n\u001b[0m\u001b[1;32m   1012\u001b[0m \u001b[0;34m\u001b[0m\u001b[0m\n\u001b[1;32m   1013\u001b[0m     \u001b[0;32mdef\u001b[0m \u001b[0m__iter__\u001b[0m\u001b[0;34m(\u001b[0m\u001b[0mself\u001b[0m\u001b[0;34m)\u001b[0m\u001b[0;34m:\u001b[0m\u001b[0;34m\u001b[0m\u001b[0m\n",
      "\u001b[0;31mKeyError\u001b[0m: 'src'"
     ]
    }
   ],
   "source": [
    "import os\n",
    "\n",
    "os.makedirs('./H&M_Suit/', exist_ok=True)\n",
    "\n",
    "from bs4 import BeautifulSoup\n",
    "from urllib.request import urlopen\n",
    "import requests\n",
    "import shutil\n",
    "import re\n",
    "\n",
    "from selenium import webdriver\n",
    "from selenium.webdriver.chrome.options import Options\n",
    "\n",
    "chrome_options = Options()\n",
    "chrome_options.add_argument('--headless')\n",
    "chrome_options.add_argument('--disable-gpu')\n",
    "driver = webdriver.Chrome(chrome_options=chrome_options)\n",
    "URL = \"https://www2.hm.com/en_us/men/products/suits-blazers.html?product-type=men_blazerssuits&sort=stock&productTypes=blazer&image-size=small&image=stillLife&offset=0&page-size=36\"\n",
    "\n",
    "driver.get(URL)\n",
    "pageSource = driver.page_source\n",
    "soup = BeautifulSoup(pageSource, \"lxml\")\n",
    "#print(soup)\n",
    "img_ul = soup.find_all('div', class_='image-container')\n",
    "\n",
    "\n",
    "for ul in img_ul:\n",
    "    imgs = ul.find_all('img')\n",
    "\n",
    "    for img in imgs:\n",
    "        url = img[\"src\"]\n",
    "        url = \"https:\" + url\n",
    "        print(url)\n",
    "        \n",
    "        r = requests.get(url, stream=True)\n",
    "        image_name = url.split('/')[-1]\n",
    "        \n",
    "        image_name = str(i)\n",
    "        i += 1\n",
    "        \n",
    "        with open('./H&M_Suit/%s' % image_name, 'wb') as f:\n",
    "            shutil.copyfileobj(r.raw, f)\n",
    "        f.close()\n",
    "        del r"
   ]
  },
  {
   "cell_type": "code",
   "execution_count": null,
   "metadata": {},
   "outputs": [],
   "source": []
  }
 ],
 "metadata": {
  "kernelspec": {
   "display_name": "Python 3",
   "language": "python",
   "name": "python3"
  },
  "language_info": {
   "codemirror_mode": {
    "name": "ipython",
    "version": 3
   },
   "file_extension": ".py",
   "mimetype": "text/x-python",
   "name": "python",
   "nbconvert_exporter": "python",
   "pygments_lexer": "ipython3",
   "version": "3.6.4"
  }
 },
 "nbformat": 4,
 "nbformat_minor": 2
}
