{
 "cells": [
  {
   "cell_type": "code",
   "execution_count": null,
   "metadata": {},
   "outputs": [],
   "source": [
    "# http://www.abercrombie.com.tw/zh_TW/%E7%94%B7%E8%A3%9D-%E4%B8%8A%E8%A1%A3/"
   ]
  },
  {
   "cell_type": "code",
   "execution_count": 1,
   "metadata": {},
   "outputs": [
    {
     "name": "stdout",
     "output_type": "stream",
     "text": [
      "<img alt=\"3-Pack Icon Crew Tee\" class=\"img-item prod-img\" itemprop=\"image\" src=\"http://anf.scene7.com/is/image/anf/anf_173391_01_model1?$dwANF-category-v1$\" title=\"3-Pack Icon Crew Tee\"/>\n",
      "<img alt=\"3-Pack Icon Crew Tee\" class=\"img-item prod-img\" itemprop=\"image\" src=\"http://anf.scene7.com/is/image/anf/anf_185495_01_model1?$dwANF-category-v1$\" title=\"3-Pack Icon Crew Tee\"/>\n",
      "<img alt=\"3-Pack Icon Crew Tee\" class=\"img-item prod-img\" itemprop=\"image\" src=\"http://anf.scene7.com/is/image/anf/anf_159178_01_model1?$dwANF-category-v1$\" title=\"3-Pack Icon Crew Tee\"/>\n",
      "<img alt=\"Big Icon Henley\" class=\"img-item prod-img\" itemprop=\"image\" src=\"http://anf.scene7.com/is/image/anf/anf_204634_06_model1?$dwANF-category-v1$\" title=\"Big Icon Henley\"/>\n",
      "<img alt=\"Big Icon V-Neck Tee\" class=\"img-item prod-img\" itemprop=\"image\" src=\"http://anf.scene7.com/is/image/anf/anf_205216_04_model1?$dwANF-category-v1$\" title=\"Big Icon V-Neck Tee\"/>\n",
      "<img alt=\"Embroidered Pocket Tee\" class=\"img-item prod-img\" itemprop=\"image\" src=\"http://anf.scene7.com/is/image/anf/anf_205786_02_model1?$dwANF-category-v1$\" title=\"Embroidered Pocket Tee\"/>\n",
      "<img alt=\"Big Icon Henley\" class=\"img-item prod-img\" itemprop=\"image\" src=\"http://anf.scene7.com/is/image/anf/anf_204634_01_model1?$dwANF-category-v1$\" title=\"Big Icon Henley\"/>\n",
      "<img alt=\"Big Icon V-Neck Tee\" class=\"img-item prod-img\" itemprop=\"image\" src=\"http://anf.scene7.com/is/image/anf/anf_205216_06_model1?$dwANF-category-v1$\" title=\"Big Icon V-Neck Tee\"/>\n",
      "<img alt=\"Icon Crew Tee\" class=\"img-item prod-img\" itemprop=\"image\" src=\"http://anf.scene7.com/is/image/anf/anf_176706_06_model1?$dwANF-category-v1$\" title=\"Icon Crew Tee\"/>\n",
      "<img alt=\"Icon Crew Tee\" class=\"img-item prod-img\" itemprop=\"image\" src=\"http://anf.scene7.com/is/image/anf/anf_199739_06_model1?$dwANF-category-v1$\" title=\"Icon Crew Tee\"/>\n",
      "<img alt=\"Icon V-Neck Tee\" class=\"img-item prod-img\" itemprop=\"image\" src=\"http://anf.scene7.com/is/image/anf/anf_199740_04_model1?$dwANF-category-v1$\" title=\"Icon V-Neck Tee\"/>\n",
      "<img alt=\"Icon Pocket Crew Tee\" class=\"img-item prod-img\" itemprop=\"image\" src=\"http://anf.scene7.com/is/image/anf/anf_205446_02_model1?$dwANF-category-v1$\" title=\"Icon Pocket Crew Tee\"/>\n"
     ]
    }
   ],
   "source": [
    "import os\n",
    "\n",
    "os.makedirs('./A&F T-Shirt/', exist_ok=True)\n",
    "\n",
    "from bs4 import BeautifulSoup\n",
    "from urllib.request import urlopen\n",
    "import requests\n",
    "import re\n",
    "import shutil\n",
    "import time\n",
    "\n",
    "URL = \"http://www.abercrombie.com.tw/zh_TW/%E7%94%B7%E8%A3%9D-%E4%B8%8A%E8%A1%A3/\"\n",
    "\n",
    "\n",
    "html = requests.get(URL).text\n",
    "soup = BeautifulSoup(html, 'lxml')\n",
    "\n",
    "for img in soup.select('.prod-img'):\n",
    "    image_name = img[\"src\"].split('/')[-1]\n",
    "    r = requests.get(img[\"src\"], stream=True)\n",
    "    time.sleep(10)\n",
    "    with open('./A&F T-Shirt/%s' % image_name, 'wb') as f:\n",
    "        shutil.copyfileobj(r.raw, f)\n",
    "    f.close()\n",
    "    del r"
   ]
  },
  {
   "cell_type": "code",
   "execution_count": null,
   "metadata": {},
   "outputs": [],
   "source": []
  }
 ],
 "metadata": {
  "kernelspec": {
   "display_name": "Python 3",
   "language": "python",
   "name": "python3"
  },
  "language_info": {
   "codemirror_mode": {
    "name": "ipython",
    "version": 3
   },
   "file_extension": ".py",
   "mimetype": "text/x-python",
   "name": "python",
   "nbconvert_exporter": "python",
   "pygments_lexer": "ipython3",
   "version": "3.6.4"
  }
 },
 "nbformat": 4,
 "nbformat_minor": 2
}
