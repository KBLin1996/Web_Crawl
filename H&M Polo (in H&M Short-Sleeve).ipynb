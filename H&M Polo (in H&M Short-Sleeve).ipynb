{
 "cells": [
  {
   "cell_type": "code",
   "execution_count": null,
   "metadata": {},
   "outputs": [],
   "source": [
    "# http://www2.hm.com/zh_asia3/men/shop-by-product/t-shirts-and-tanks.html?product-type=MEN_TSHIRTSTANKS_POLO%2CMEN_TSHIRTSTANKS_POLO&sort=stock&offset=0&page-size=30"
   ]
  },
  {
   "cell_type": "code",
   "execution_count": null,
   "metadata": {},
   "outputs": [],
   "source": [
    "import os\n",
    "\n",
    "os.makedirs('./H&M Short-Sleeve/', exist_ok=True)"
   ]
  },
  {
   "cell_type": "code",
   "execution_count": 2,
   "metadata": {},
   "outputs": [
    {
     "name": "stdout",
     "output_type": "stream",
     "text": [
      "https://lp2.hm.com/hmgoepprod?set=source[/3a/6a/3a6abd03e0fe96c9495759558c989bac849d83d7.jpg],origin[dam],category[],type[LOOKBOOK],hmver[1]&call=url[file:/product/main]\n",
      "https://lp2.hm.com/hmgoepprod?set=source[/89/2a/892a6a8fe6c9c58ecbd51cbffaeb5688c627a00e.jpg],origin[dam],category[MEN_TSHIRTSTANKS_POLO],type[LOOKBOOK],hmver[1]&call=url[file:/product/main]\n",
      "https://lp2.hm.com/hmgoepprod?set=source[/cf/c6/cfc6e89f4bd195dc2922d05837a206755f932de3.jpg],origin[dam],category[MEN_TSHIRTSTANKS_POLO],type[LOOKBOOK],hmver[1]&call=url[file:/product/main]\n",
      "https://lp2.hm.com/hmgoepprod?set=source[/ce/32/ce329228ff7180a3885f81ac58961957be00b0c0.jpg],origin[dam],category[MEN_TSHIRTSTANKS_POLO],type[LOOKBOOK],hmver[1]&call=url[file:/product/main]\n",
      "https://lp2.hm.com/hmgoepprod?set=source[/e2/49/e249d849000d96299616c34432f3fddfd4944a76.jpg],origin[dam],category[MEN_TSHIRTSTANKS_POLO],type[LOOKBOOK],hmver[1]&call=url[file:/product/main]\n",
      "https://lp2.hm.com/hmgoepprod?set=source[/3f/d2/3fd2e15a9cdef62a0496fe691505d130f0372553.jpg],origin[dam],category[MEN_TSHIRTSTANKS_POLO],type[LOOKBOOK],hmver[1]&call=url[file:/product/main]\n",
      "https://lp2.hm.com/hmgoepprod?set=source[/9b/0f/9b0f95a7be133beb9d1bb8197241a5f3578ae5cd.jpg],origin[dam],category[MEN_TSHIRTSTANKS_POLO],type[LOOKBOOK],hmver[1]&call=url[file:/product/main]\n",
      "https://lp2.hm.com/hmgoepprod?set=source[/ee/81/ee81206133a331eca6729e4c6f6499ff3abdd28d.jpg],origin[dam],category[],type[LOOKBOOK],hmver[1]&call=url[file:/product/main]\n",
      "https://lp2.hm.com/hmgoepprod?set=source[/1e/04/1e044f8c18dd9d6c73629e2b63ac56706d7ffdb1.jpg],origin[dam],category[],type[LOOKBOOK],hmver[1]&call=url[file:/product/main]\n",
      "https://lp2.hm.com/hmgoepprod?set=source[/03/94/0394fb65940768f4ba045b205cfe203475642697.jpg],origin[dam],category[],type[LOOKBOOK],hmver[1]&call=url[file:/product/main]\n",
      "https://lp2.hm.com/hmgoepprod?set=source[/55/57/5557c87dc9b95eeaf41e5bf40bfda24958596453.jpg],origin[dam],category[MEN_TSHIRTSTANKS_POLO],type[LOOKBOOK],hmver[1]&call=url[file:/product/main]\n",
      "https://lp2.hm.com/hmgoepprod?set=source[/d4/aa/d4aaab2903c7a4cf2ee7227fc552305f2a572b27.jpg],origin[dam],category[MEN_TSHIRTSTANKS_POLO],type[LOOKBOOK],hmver[1]&call=url[file:/product/main]\n",
      "https://lp2.hm.com/hmgoepprod?set=source[/ad/90/ad90edf941acb1a67feee16749f1c97b4d7dfafc.jpg],origin[dam],category[],type[LOOKBOOK],hmver[1]&call=url[file:/product/main]\n",
      "https://lp2.hm.com/hmgoepprod?set=source[/ed/19/ed195e99dd520d13aaef5c1692ecc900b05a67cf.jpg],origin[dam],category[MEN_TSHIRTSTANKS_POLO],type[LOOKBOOK],hmver[1]&call=url[file:/product/main]\n",
      "https://lp2.hm.com/hmgoepprod?set=source[/d5/7b/d57b2b25797b4b2412707335e0476564f0ff42bf.jpg],origin[dam],category[],type[LOOKBOOK],hmver[1]&call=url[file:/product/main]\n",
      "https://lp2.hm.com/hmgoepprod?set=source[/4e/ff/4eff6fdd3b7924d2267970db97cb1904ec1c6fe7.jpg],origin[dam],category[MEN_TSHIRTSTANKS_POLO],type[LOOKBOOK],hmver[1]&call=url[file:/product/main]\n",
      "https://lp2.hm.com/hmgoepprod?set=source[/15/9a/159ac092ba1d9cf99e68d161bd13e222a922e18c.jpg],origin[dam],category[MEN_TSHIRTSTANKS_POLO],type[LOOKBOOK],hmver[1]&call=url[file:/product/main]\n",
      "https://lp2.hm.com/hmgoepprod?set=source[/d2/dd/d2ddecb4075a5ebcddc5a70a9d7d90dbcdf4afa5.jpg],origin[dam],category[MEN_TSHIRTSTANKS_POLO],type[LOOKBOOK],hmver[1]&call=url[file:/product/main]\n",
      "https://lp2.hm.com/hmgoepprod?set=source[/4f/9e/4f9eaaae26954961452a108d7a799bff5b3564a2.jpg],origin[dam],category[MEN_TSHIRTSTANKS_POLO],type[LOOKBOOK],hmver[1]&call=url[file:/product/main]\n",
      "https://lp2.hm.com/hmgoepprod?set=source[/d9/d9/d9d95a5f5d3ac904729078474fd43f2efc07976a.jpg],origin[dam],category[MEN_TSHIRTSTANKS_POLO],type[LOOKBOOK],hmver[1]&call=url[file:/product/main]\n",
      "https://lp2.hm.com/hmgoepprod?set=source[/70/63/70630b5c8d2d51e31648ab6eb7dc4fa107fbc421.jpg],origin[dam],category[MEN_TSHIRTSTANKS_POLO],type[LOOKBOOK],hmver[2]&call=url[file:/product/main]\n",
      "https://lp2.hm.com/hmgoepprod?set=source[/e9/f4/e9f409377cf7e88eb7f7992df518a0fd3d3d3566.jpg],origin[dam],category[MEN_TSHIRTSTANKS_POLO],type[LOOKBOOK],hmver[2]&call=url[file:/product/main]\n",
      "https://lp2.hm.com/hmgoepprod?set=source[/7f/06/7f0609be4794f81c1c7f1e3ad34f998510bcc7c0.jpg],origin[dam],category[MEN_TSHIRTSTANKS_POLO],type[DESCRIPTIVESTILLLIFE],hmver[1]&call=url[file:/product/main]\n",
      "https://lp2.hm.com/hmprod?set=source[/environment/2017/8XZ_0062_024R.jpg],width[2680],height[3134],type[FASHION_FRONT]&hmver=0&call=url[file:/product/main]\n",
      "https://lp2.hm.com/hmgoepprod?set=source[/2f/01/2f01725cbc2eb1d5cd576c8ec533dc332f2ffa8a.jpg],origin[dam],category[MEN_TSHIRTSTANKS_POLO],type[LOOKBOOK],hmver[1]&call=url[file:/product/main]\n",
      "https://lp2.hm.com/hmgoepprod?set=source[/6c/c7/6cc7cd5c0be73d075859003674941da868b3e446.jpg],origin[dam],category[MEN_TSHIRTSTANKS_POLO],type[LOOKBOOK],hmver[1]&call=url[file:/product/main]\n",
      "https://lp2.hm.com/hmgoepprod?set=source[/5a/96/5a960f11df6057db3a4392f1fe1c21d8b02411d5.jpg],origin[dam],category[MEN_TSHIRTSTANKS_POLO],type[LOOKBOOK],hmver[1]&call=url[file:/product/main]\n",
      "https://lp2.hm.com/hmgoepprod?set=source[/90/ff/90ff7ba3bd670b383752d5f9a55201195f506207.jpg],origin[dam],category[MEN_TSHIRTSTANKS_POLO],type[LOOKBOOK],hmver[1]&call=url[file:/product/main]\n"
     ]
    }
   ],
   "source": [
    "from bs4 import BeautifulSoup\n",
    "from urllib.request import urlopen\n",
    "import requests\n",
    "import re\n",
    "import shutil\n",
    "\n",
    "URL = \"http://www2.hm.com/zh_asia3/men/shop-by-product/t-shirts-and-tanks.html?product-type=MEN_TSHIRTSTANKS_POLO%2CMEN_TSHIRTSTANKS_POLO&sort=stock&offset=0&page-size=30\"\n",
    "\n",
    "headers = {'user-agent': 'Mozilla/5.0 (Windows NT 6.1) AppleWebKit/537.36 (KHTML, like Gecko) Chrome/52.0.2743.116 Safari/537.36'}\n",
    "re = requests.get(URL, headers=headers) \n",
    "re.encoding = 'utf8'\n",
    "\n",
    "html = requests.get(URL).text\n",
    "soup = BeautifulSoup(html, 'lxml')\n",
    "img_ul = soup.find_all('div', class_='productlisting parbase section')\n",
    "i=262\n",
    "\n",
    "for ul in img_ul:\n",
    "    imgs = ul.find_all('img')\n",
    "\n",
    "    for img in imgs:\n",
    "        \n",
    "        url = img[\"src\"]\n",
    "                \n",
    "        b = 'https:'\n",
    "        url = b + url\n",
    "        print(url)\n",
    "        r = requests.get(url, stream=True)\n",
    "        image_name = url.split('/')[-1]\n",
    "        \n",
    "        image_name = image_name + str(i)\n",
    "        i += 1\n",
    "        \n",
    "        with open('./H&M Short-Sleeve/%s' % image_name, 'wb') as f:\n",
    "            shutil.copyfileobj(r.raw, f)\n",
    "        f.close()\n",
    "        del r"
   ]
  },
  {
   "cell_type": "code",
   "execution_count": null,
   "metadata": {},
   "outputs": [],
   "source": []
  }
 ],
 "metadata": {
  "kernelspec": {
   "display_name": "Python 3",
   "language": "python",
   "name": "python3"
  },
  "language_info": {
   "codemirror_mode": {
    "name": "ipython",
    "version": 3
   },
   "file_extension": ".py",
   "mimetype": "text/x-python",
   "name": "python",
   "nbconvert_exporter": "python",
   "pygments_lexer": "ipython3",
   "version": "3.6.4"
  }
 },
 "nbformat": 4,
 "nbformat_minor": 2
}
