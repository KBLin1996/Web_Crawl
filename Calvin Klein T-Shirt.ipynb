{
 "cells": [
  {
   "cell_type": "code",
   "execution_count": 1,
   "metadata": {},
   "outputs": [],
   "source": [
    "# http://www.calvinklein.com/tw/zh/search?cgid=men-apparel-t-shirts#cgid=men-apparel-t-shirts&sz=40&start=0"
   ]
  },
  {
   "cell_type": "code",
   "execution_count": 1,
   "metadata": {},
   "outputs": [],
   "source": [
    "import os\n",
    "\n",
    "os.makedirs('./Calvin Klein T-Shirt/', exist_ok=True)"
   ]
  },
  {
   "cell_type": "code",
   "execution_count": 4,
   "metadata": {},
   "outputs": [],
   "source": [
    "# 爬Calvin Klein T-Shirt"
   ]
  },
  {
   "cell_type": "code",
   "execution_count": 2,
   "metadata": {},
   "outputs": [
    {
     "name": "stdout",
     "output_type": "stream",
     "text": [
      "http://demandware.edgesuite.net/sits_pod35/dw/image/v2/ABAD_PRD/on/demandware.static/-/Sites-calvinklein-hk-master/default/dw63fd3e0b/images/hi-res/J307573-099/J307573-099-ITEM-1.jpg?sw=500\n",
      "Saved J307573-099-ITEM-1.jpg?sw=500\n",
      "http://demandware.edgesuite.net/sits_pod35/dw/image/v2/ABAD_PRD/on/demandware.static/-/Sites-calvinklein-hk-master/default/dw951a7ace/images/hi-res/J307925-407/J307925-407-ITEM-1.jpg?sw=500\n",
      "Saved J307925-407-ITEM-1.jpg?sw=500\n",
      "http://demandware.edgesuite.net/sits_pod35/dw/image/v2/ABAD_PRD/on/demandware.static/-/Sites-calvinklein-hk-master/default/dw9c1415bb/images/hi-res/J307925-112/J307925-112-ITEM-1.jpg?sw=500\n",
      "Saved J307925-112-ITEM-1.jpg?sw=500\n",
      "http://demandware.edgesuite.net/sits_pod35/dw/image/v2/ABAD_PRD/on/demandware.static/-/Sites-calvinklein-hk-master/default/dwda72b588/images/hi-res/4MS8K104-007/4MS8K104-007-ITEM-1.jpg?sw=500\n",
      "Saved 4MS8K104-007-ITEM-1.jpg?sw=500\n",
      "http://demandware.edgesuite.net/sits_pod35/dw/image/v2/ABAD_PRD/on/demandware.static/-/Sites-calvinklein-hk-master/default/dw1a6584b1/images/hi-res/4MS8K104-100/4MS8K104-100-ITEM-1.jpg?sw=500\n",
      "Saved 4MS8K104-100-ITEM-1.jpg?sw=500\n",
      "http://demandware.edgesuite.net/sits_pod35/dw/image/v2/ABAD_PRD/on/demandware.static/-/Sites-calvinklein-hk-master/default/dw050d810b/images/hi-res/4MS8K104-465/4MS8K104-465-ITEM-1.jpg?sw=500\n",
      "Saved 4MS8K104-465-ITEM-1.jpg?sw=500\n",
      "http://demandware.edgesuite.net/sits_pod35/dw/image/v2/ABAD_PRD/on/demandware.static/-/Sites-calvinklein-hk-master/default/dw3a1b6230/images/hi-res/4MS8K104-665/4MS8K104-665-ITEM-1.jpg?sw=500\n",
      "Saved 4MS8K104-665-ITEM-1.jpg?sw=500\n",
      "http://demandware.edgesuite.net/sits_pod35/dw/image/v2/ABAD_PRD/on/demandware.static/-/Sites-calvinklein-hk-master/default/dw94e981e4/images/hi-res/J310573-112/J310573-112-ITEM-1.jpg?sw=500\n",
      "Saved J310573-112-ITEM-1.jpg?sw=500\n",
      "http://demandware.edgesuite.net/sits_pod35/dw/image/v2/ABAD_PRD/on/demandware.static/-/Sites-calvinklein-hk-master/default/dwc2618c84/images/hi-res/J310573-099/J310573-099-ITEM-1.jpg?sw=500\n",
      "Saved J310573-099-ITEM-1.jpg?sw=500\n",
      "http://demandware.edgesuite.net/sits_pod35/dw/image/v2/ABAD_PRD/on/demandware.static/-/Sites-calvinklein-hk-master/default/dwb8648183/images/hi-res/J307837-402/J307837-402-ITEM-1.jpg?sw=500\n",
      "Saved J307837-402-ITEM-1.jpg?sw=500\n",
      "http://demandware.edgesuite.net/sits_pod35/dw/image/v2/ABAD_PRD/on/demandware.static/-/Sites-calvinklein-hk-master/default/dw5c5348ba/images/hi-res/J310572-901/J310572-901-ITEM-1.jpg?sw=500\n",
      "Saved J310572-901-ITEM-1.jpg?sw=500\n",
      "http://demandware.edgesuite.net/sits_pod35/dw/image/v2/ABAD_PRD/on/demandware.static/-/Sites-calvinklein-hk-master/default/dwf7cf13c3/images/hi-res/J310572-099/J310572-099-ITEM-1.jpg?sw=500\n",
      "Saved J310572-099-ITEM-1.jpg?sw=500\n",
      "http://demandware.edgesuite.net/sits_pod35/dw/image/v2/ABAD_PRD/on/demandware.static/-/Sites-calvinklein-hk-master/default/dw965ceca7/images/hi-res/M70008-WHI/M70008-WHI-ITEM-1.jpg?sw=500\n",
      "Saved M70008-WHI-ITEM-1.jpg?sw=500\n",
      "http://demandware.edgesuite.net/sits_pod35/dw/image/v2/ABAD_PRD/on/demandware.static/-/Sites-calvinklein-hk-master/default/dw72ae23d7/images/hi-res/M76254-WHI/M76254-WHI-ITEM-1.jpg?sw=500\n",
      "Saved M76254-WHI-ITEM-1.jpg?sw=500\n",
      "http://demandware.edgesuite.net/sits_pod35/dw/image/v2/ABAD_PRD/on/demandware.static/-/Sites-calvinklein-hk-master/default/dw9858c09f/images/hi-res/M76497-GRE/M76497-GRE-ITEM-1.jpg?sw=500\n",
      "Saved M76497-GRE-ITEM-1.jpg?sw=500\n",
      "http://demandware.edgesuite.net/sits_pod35/dw/image/v2/ABAD_PRD/on/demandware.static/-/Sites-calvinklein-hk-master/default/dwd8b92420/images/hi-res/M76254-ARM/M76254-ARM-ITEM-1.jpg?sw=500\n",
      "Saved M76254-ARM-ITEM-1.jpg?sw=500\n",
      "http://demandware.edgesuite.net/sits_pod35/dw/image/v2/ABAD_PRD/on/demandware.static/-/Sites-calvinklein-hk-master/default/dw389c4497/images/hi-res/M76254-BLA/M76254-BLA-ITEM-1.jpg?sw=500\n",
      "Saved M76254-BLA-ITEM-1.jpg?sw=500\n",
      "http://demandware.edgesuite.net/sits_pod35/dw/image/v2/ABAD_PRD/on/demandware.static/-/Sites-calvinklein-hk-master/default/dw6d3ed5d9/images/hi-res/M76497-YEL/M76497-YEL-ITEM-1.jpg?sw=500\n",
      "Saved M76497-YEL-ITEM-1.jpg?sw=500\n",
      "http://demandware.edgesuite.net/sits_pod35/dw/image/v2/ABAD_PRD/on/demandware.static/-/Sites-calvinklein-hk-master/default/dwefe6ad01/images/hi-res/M76413-ORA/M76413-ORA-ITEM-1.jpg?sw=500\n",
      "Saved M76413-ORA-ITEM-1.jpg?sw=500\n",
      "http://demandware.edgesuite.net/sits_pod35/dw/image/v2/ABAD_PRD/on/demandware.static/-/Sites-calvinklein-hk-master/default/dwfed70eaf/images/hi-res/M76413-RED/M76413-RED-ITEM-1.jpg?sw=500\n",
      "Saved M76413-RED-ITEM-1.jpg?sw=500\n",
      "http://demandware.edgesuite.net/sits_pod35/dw/image/v2/ABAD_PRD/on/demandware.static/-/Sites-calvinklein-hk-master/default/dw628650d6/images/hi-res/J307918-099/J307918-099-ITEM-1.jpg?sw=500\n",
      "Saved J307918-099-ITEM-1.jpg?sw=500\n",
      "http://demandware.edgesuite.net/sits_pod35/dw/image/v2/ABAD_PRD/on/demandware.static/-/Sites-calvinklein-hk-master/default/dwbcc13032/images/hi-res/J307918-112/J307918-112-ITEM-1.jpg?sw=500\n",
      "Saved J307918-112-ITEM-1.jpg?sw=500\n",
      "http://demandware.edgesuite.net/sits_pod35/dw/image/v2/ABAD_PRD/on/demandware.static/-/Sites-calvinklein-hk-master/default/dw744ee99a/images/hi-res/M76580-WHI/M76580-WHI-ITEM-1.jpg?sw=500\n",
      "Saved M76580-WHI-ITEM-1.jpg?sw=500\n",
      "http://demandware.edgesuite.net/sits_pod35/dw/image/v2/ABAD_PRD/on/demandware.static/-/Sites-calvinklein-hk-master/default/dw31860131/images/hi-res/M76365-YEL/M76365-YEL-ITEM-1.jpg?sw=500\n",
      "Saved M76365-YEL-ITEM-1.jpg?sw=500\n",
      "http://demandware.edgesuite.net/sits_pod35/dw/image/v2/ABAD_PRD/on/demandware.static/-/Sites-calvinklein-hk-master/default/dw5a27a18e/images/hi-res/M76365-GRE/M76365-GRE-ITEM-1.jpg?sw=500\n",
      "Saved M76365-GRE-ITEM-1.jpg?sw=500\n",
      "http://demandware.edgesuite.net/sits_pod35/dw/image/v2/ABAD_PRD/on/demandware.static/-/Sites-calvinklein-hk-master/default/dw26477313/images/hi-res/M76365-BLU/M76365-BLU-ITEM-1.jpg?sw=500\n",
      "Saved M76365-BLU-ITEM-1.jpg?sw=500\n",
      "http://demandware.edgesuite.net/sits_pod35/dw/image/v2/ABAD_PRD/on/demandware.static/-/Sites-calvinklein-hk-master/default/dw1c93dc53/images/hi-res/4ASKQF1-099/4ASKQF1-099-ITEM-1.jpg?sw=500\n",
      "Saved 4ASKQF1-099-ITEM-1.jpg?sw=500\n",
      "http://demandware.edgesuite.net/sits_pod35/dw/image/v2/ABAD_PRD/on/demandware.static/-/Sites-calvinklein-hk-master/default/dwd80e4321/images/hi-res/J307923-112/J307923-112-ITEM-1.jpg?sw=500\n",
      "Saved J307923-112-ITEM-1.jpg?sw=500\n",
      "http://demandware.edgesuite.net/sits_pod35/dw/image/v2/ABAD_PRD/on/demandware.static/-/Sites-calvinklein-hk-master/default/dw2de0286a/images/hi-res/J307915-025/J307915-025-ITEM-1.jpg?sw=500\n",
      "Saved J307915-025-ITEM-1.jpg?sw=500\n",
      "http://demandware.edgesuite.net/sits_pod35/dw/image/v2/ABAD_PRD/on/demandware.static/-/Sites-calvinklein-hk-master/default/dwa1f8ac5a/images/hi-res/4ASKQH5-694/4ASKQH5-694-ITEM-1.jpg?sw=500\n",
      "Saved 4ASKQH5-694-ITEM-1.jpg?sw=500\n",
      "http://demandware.edgesuite.net/sits_pod35/dw/image/v2/ABAD_PRD/on/demandware.static/-/Sites-calvinklein-hk-master/default/dwe07c1d49/images/hi-res/J307884-694/J307884-694-ITEM-1.jpg?sw=500\n",
      "Saved J307884-694-ITEM-1.jpg?sw=500\n",
      "http://demandware.edgesuite.net/sits_pod35/dw/image/v2/ABAD_PRD/on/demandware.static/-/Sites-calvinklein-hk-master/default/dw56af110d/images/hi-res/4ASKQH5-112/4ASKQH5-112-ITEM-1.jpg?sw=500\n",
      "Saved 4ASKQH5-112-ITEM-1.jpg?sw=500\n",
      "http://demandware.edgesuite.net/sits_pod35/dw/image/v2/ABAD_PRD/on/demandware.static/-/Sites-calvinklein-hk-master/default/dw0c30fdb6/images/hi-res/J306519-691/J306519-691-ITEM-1.jpg?sw=500\n",
      "Saved J306519-691-ITEM-1.jpg?sw=500\n",
      "http://demandware.edgesuite.net/sits_pod35/dw/image/v2/ABAD_PRD/on/demandware.static/-/Sites-calvinklein-hk-master/default/dw0599f4ed/images/hi-res/J307915-099/J307915-099-ITEM-1.jpg?sw=500\n",
      "Saved J307915-099-ITEM-1.jpg?sw=500\n",
      "http://demandware.edgesuite.net/sits_pod35/dw/image/v2/ABAD_PRD/on/demandware.static/-/Sites-calvinklein-hk-master/default/dw7568e8fa/images/hi-res/J307917-099/J307917-099-ITEM-1.jpg?sw=500\n",
      "Saved J307917-099-ITEM-1.jpg?sw=500\n",
      "http://demandware.edgesuite.net/sits_pod35/dw/image/v2/ABAD_PRD/on/demandware.static/-/Sites-calvinklein-hk-master/default/dw30f0a4c2/images/hi-res/J307553-903/J307553-903-ITEM-1.jpg?sw=500\n",
      "Saved J307553-903-ITEM-1.jpg?sw=500\n",
      "http://demandware.edgesuite.net/sits_pod35/dw/image/v2/ABAD_PRD/on/demandware.static/-/Sites-calvinklein-hk-master/default/dw8191f9a6/images/hi-res/J307553-407/J307553-407-ITEM-1.jpg?sw=500\n",
      "Saved J307553-407-ITEM-1.jpg?sw=500\n",
      "http://demandware.edgesuite.net/sits_pod35/dw/image/v2/ABAD_PRD/on/demandware.static/-/Sites-calvinklein-hk-master/default/dwb06fc1ff/images/hi-res/M76283-CHA/M76283-CHA-ITEM-1.jpg?sw=500\n"
     ]
    },
    {
     "name": "stdout",
     "output_type": "stream",
     "text": [
      "Saved M76283-CHA-ITEM-1.jpg?sw=500\n",
      "http://demandware.edgesuite.net/sits_pod35/dw/image/v2/ABAD_PRD/on/demandware.static/-/Sites-calvinklein-hk-master/default/dw8d2c9765/images/hi-res/M76271-ORA/M76271-ORA-ITEM-1.jpg?sw=500\n",
      "Saved M76271-ORA-ITEM-1.jpg?sw=500\n",
      "http://demandware.edgesuite.net/sits_pod35/dw/image/v2/ABAD_PRD/on/demandware.static/-/Sites-calvinklein-hk-master/default/dw74de585f/images/hi-res/M76492-BLA/M76492-BLA-ITEM-1.jpg?sw=500\n",
      "Saved M76492-BLA-ITEM-1.jpg?sw=500\n"
     ]
    }
   ],
   "source": [
    "from bs4 import BeautifulSoup\n",
    "from urllib.request import urlopen\n",
    "import requests\n",
    "import re\n",
    "\n",
    "from selenium import webdriver\n",
    "from selenium.webdriver.chrome.options import Options\n",
    "\n",
    "chrome_options = Options()\n",
    "chrome_options.add_argument('--headless')\n",
    "chrome_options.add_argument('--disable-gpu')\n",
    "driver = webdriver.Chrome(chrome_options=chrome_options)\n",
    "URL = \"http://www.calvinklein.com/tw/zh/search?cgid=men-apparel-t-shirts#cgid=men-apparel-t-shirts&sz=40&start=0\"\n",
    "\n",
    "driver.get(URL)\n",
    "pageSource = driver.page_source\n",
    "soup = BeautifulSoup(pageSource, \"lxml\")\n",
    "\n",
    "img_ul = soup.find_all('div', class_='search-result-content grid-3')\n",
    "\n",
    "for ul in img_ul:\n",
    "    imgs = ul.find_all('img')\n",
    "\n",
    "    for img in imgs:\n",
    "        url = img[\"src\"]\n",
    "        #url = \"https:/\" + url\n",
    "        print(url)\n",
    "        \n",
    "        r = requests.get(url, stream=True)\n",
    "        image_name = url.split('/')[-1]\n",
    "        with open('./Calvin Klein T-Shirt/%s' % image_name, 'wb') as f:\n",
    "            for chunk in r.iter_content(chunk_size=1024):\n",
    "                f.write(chunk)\n",
    "        print('Saved %s' % image_name)\n"
   ]
  },
  {
   "cell_type": "code",
   "execution_count": null,
   "metadata": {},
   "outputs": [],
   "source": []
  }
 ],
 "metadata": {
  "kernelspec": {
   "display_name": "Python 3",
   "language": "python",
   "name": "python3"
  },
  "language_info": {
   "codemirror_mode": {
    "name": "ipython",
    "version": 3
   },
   "file_extension": ".py",
   "mimetype": "text/x-python",
   "name": "python",
   "nbconvert_exporter": "python",
   "pygments_lexer": "ipython3",
   "version": "3.6.4"
  }
 },
 "nbformat": 4,
 "nbformat_minor": 2
}
